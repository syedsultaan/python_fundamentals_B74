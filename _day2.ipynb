{
 "cells": [
  {
   "cell_type": "code",
   "execution_count": 1,
   "id": "46f27e5a",
   "metadata": {},
   "outputs": [],
   "source": [
    "x = 8\n",
    "\n",
    "y = 9\n",
    "\n",
    "z = x+y"
   ]
  },
  {
   "cell_type": "code",
   "execution_count": 2,
   "id": "9568b1ce",
   "metadata": {},
   "outputs": [
    {
     "name": "stdout",
     "output_type": "stream",
     "text": [
      "17\n"
     ]
    }
   ],
   "source": [
    "print (z)"
   ]
  },
  {
   "cell_type": "code",
   "execution_count": 3,
   "id": "76aa7762",
   "metadata": {},
   "outputs": [
    {
     "name": "stdout",
     "output_type": "stream",
     "text": [
      "syed\n"
     ]
    }
   ],
   "source": [
    "firstname = 'syed'\n",
    "\n",
    "print(firstname)"
   ]
  },
  {
   "cell_type": "code",
   "execution_count": 4,
   "id": "099885c5",
   "metadata": {},
   "outputs": [
    {
     "name": "stdout",
     "output_type": "stream",
     "text": [
      "Syed\n"
     ]
    }
   ],
   "source": [
    "print(firstname.title())"
   ]
  },
  {
   "cell_type": "code",
   "execution_count": 5,
   "id": "6a538dc1",
   "metadata": {},
   "outputs": [
    {
     "name": "stdout",
     "output_type": "stream",
     "text": [
      "SYED\n"
     ]
    }
   ],
   "source": [
    "print(firstname.upper())"
   ]
  },
  {
   "cell_type": "code",
   "execution_count": 6,
   "id": "ec22f861",
   "metadata": {},
   "outputs": [
    {
     "name": "stdout",
     "output_type": "stream",
     "text": [
      "syed\n"
     ]
    }
   ],
   "source": [
    "print(firstname.lower())"
   ]
  },
  {
   "cell_type": "code",
   "execution_count": 7,
   "id": "c1d720dd",
   "metadata": {},
   "outputs": [
    {
     "name": "stdout",
     "output_type": "stream",
     "text": [
      "sd\n"
     ]
    }
   ],
   "source": [
    "name1 = 'sd'\n",
    "\n",
    "print(name1)"
   ]
  },
  {
   "cell_type": "code",
   "execution_count": 8,
   "id": "b2b5107f",
   "metadata": {},
   "outputs": [],
   "source": [
    "name2 = 'syed'"
   ]
  },
  {
   "cell_type": "code",
   "execution_count": 9,
   "id": "cdc33624",
   "metadata": {},
   "outputs": [
    {
     "name": "stdout",
     "output_type": "stream",
     "text": [
      "syed\n"
     ]
    }
   ],
   "source": [
    "print(name2)"
   ]
  },
  {
   "cell_type": "code",
   "execution_count": 10,
   "id": "5151ddf1",
   "metadata": {},
   "outputs": [
    {
     "name": "stdout",
     "output_type": "stream",
     "text": [
      "SYED\n"
     ]
    }
   ],
   "source": [
    "print(name2.upper())"
   ]
  },
  {
   "cell_type": "code",
   "execution_count": 11,
   "id": "e15fc5a1",
   "metadata": {},
   "outputs": [
    {
     "data": {
      "text/plain": [
       "str"
      ]
     },
     "execution_count": 11,
     "metadata": {},
     "output_type": "execute_result"
    }
   ],
   "source": [
    "type(name2)"
   ]
  },
  {
   "cell_type": "code",
   "execution_count": 12,
   "id": "ded42c22",
   "metadata": {},
   "outputs": [
    {
     "data": {
      "text/plain": [
       "str"
      ]
     },
     "execution_count": 12,
     "metadata": {},
     "output_type": "execute_result"
    }
   ],
   "source": [
    "type(name1)"
   ]
  },
  {
   "cell_type": "code",
   "execution_count": 13,
   "id": "63a5912b",
   "metadata": {},
   "outputs": [
    {
     "data": {
      "text/plain": [
       "str"
      ]
     },
     "execution_count": 13,
     "metadata": {},
     "output_type": "execute_result"
    }
   ],
   "source": [
    "type(firstname)"
   ]
  },
  {
   "cell_type": "code",
   "execution_count": null,
   "id": "eaabaa47",
   "metadata": {},
   "outputs": [],
   "source": []
  }
 ],
 "metadata": {
  "kernelspec": {
   "display_name": "Python 3 (ipykernel)",
   "language": "python",
   "name": "python3"
  },
  "language_info": {
   "codemirror_mode": {
    "name": "ipython",
    "version": 3
   },
   "file_extension": ".py",
   "mimetype": "text/x-python",
   "name": "python",
   "nbconvert_exporter": "python",
   "pygments_lexer": "ipython3",
   "version": "3.9.13"
  }
 },
 "nbformat": 4,
 "nbformat_minor": 5
}
