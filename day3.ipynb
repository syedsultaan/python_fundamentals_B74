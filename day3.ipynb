{
 "cells": [
  {
   "cell_type": "code",
   "execution_count": 1,
   "id": "5fa77fb9",
   "metadata": {},
   "outputs": [],
   "source": [
    "x = 10\n",
    "\n",
    "y = 90"
   ]
  },
  {
   "cell_type": "code",
   "execution_count": 2,
   "id": "41ed8a2a",
   "metadata": {},
   "outputs": [],
   "source": [
    "z = x+y"
   ]
  },
  {
   "cell_type": "code",
   "execution_count": 3,
   "id": "a14c97a9",
   "metadata": {},
   "outputs": [
    {
     "name": "stdout",
     "output_type": "stream",
     "text": [
      "100\n"
     ]
    }
   ],
   "source": [
    "print(z)"
   ]
  },
  {
   "cell_type": "code",
   "execution_count": 4,
   "id": "9f36fe73",
   "metadata": {},
   "outputs": [
    {
     "name": "stdout",
     "output_type": "stream",
     "text": [
      "-80\n"
     ]
    }
   ],
   "source": [
    "z = x-y\n",
    "print(z)"
   ]
  },
  {
   "cell_type": "markdown",
   "id": "845e0cc2",
   "metadata": {},
   "source": []
  },
  {
   "cell_type": "code",
   "execution_count": 5,
   "id": "a306bf69",
   "metadata": {},
   "outputs": [],
   "source": [
    "name1 = 'billgates'"
   ]
  },
  {
   "cell_type": "code",
   "execution_count": 6,
   "id": "1147a43a",
   "metadata": {},
   "outputs": [
    {
     "name": "stdout",
     "output_type": "stream",
     "text": [
      "billgates\n"
     ]
    }
   ],
   "source": [
    "print(name1)"
   ]
  },
  {
   "cell_type": "code",
   "execution_count": 7,
   "id": "f355d352",
   "metadata": {},
   "outputs": [
    {
     "name": "stdout",
     "output_type": "stream",
     "text": [
      "Billgates\n"
     ]
    }
   ],
   "source": [
    "print(name1.title())"
   ]
  },
  {
   "cell_type": "code",
   "execution_count": 9,
   "id": "55cb2cbf",
   "metadata": {},
   "outputs": [
    {
     "name": "stdout",
     "output_type": "stream",
     "text": [
      "BILLGATES\n"
     ]
    }
   ],
   "source": [
    "print(name1.upper())"
   ]
  },
  {
   "cell_type": "code",
   "execution_count": 10,
   "id": "da616b3b",
   "metadata": {},
   "outputs": [
    {
     "name": "stdout",
     "output_type": "stream",
     "text": [
      "billgates\n"
     ]
    }
   ],
   "source": [
    "print(name1.lower())"
   ]
  },
  {
   "cell_type": "code",
   "execution_count": 11,
   "id": "74edee79",
   "metadata": {},
   "outputs": [
    {
     "data": {
      "text/plain": [
       "str"
      ]
     },
     "execution_count": 11,
     "metadata": {},
     "output_type": "execute_result"
    }
   ],
   "source": [
    "type(name1)"
   ]
  },
  {
   "cell_type": "code",
   "execution_count": 12,
   "id": "60cab209",
   "metadata": {},
   "outputs": [],
   "source": [
    "first_name = 'sultan'\n",
    "last_name = 'syed'"
   ]
  },
  {
   "cell_type": "code",
   "execution_count": 13,
   "id": "7aa03d9c",
   "metadata": {},
   "outputs": [],
   "source": [
    "full_name = f\" {first_name} {last_name}\""
   ]
  },
  {
   "cell_type": "code",
   "execution_count": 14,
   "id": "0a6825ed",
   "metadata": {},
   "outputs": [
    {
     "name": "stdout",
     "output_type": "stream",
     "text": [
      " sultan syed\n"
     ]
    }
   ],
   "source": [
    "print(full_name)"
   ]
  },
  {
   "cell_type": "code",
   "execution_count": 15,
   "id": "0a3f5e7e",
   "metadata": {},
   "outputs": [
    {
     "name": "stdout",
     "output_type": "stream",
     "text": [
      "keep practicing python daily,  Sultan Syed\n"
     ]
    }
   ],
   "source": [
    "message = f\"keep practicing python daily, {full_name.title()}\"\n",
    "print(message)"
   ]
  },
  {
   "cell_type": "code",
   "execution_count": null,
   "id": "c03ea88f",
   "metadata": {},
   "outputs": [],
   "source": [
    "adding the whitespace :"
   ]
  },
  {
   "cell_type": "code",
   "execution_count": 17,
   "id": "d4396bdb",
   "metadata": {},
   "outputs": [
    {
     "name": "stdout",
     "output_type": "stream",
     "text": [
      "favourite_cricketer_player:vkohlisirajrjadegamsdhoni\n"
     ]
    }
   ],
   "source": [
    "print(\"favourite_cricketer_player:vkohlisirajrjadegamsdhoni\")"
   ]
  },
  {
   "cell_type": "code",
   "execution_count": 19,
   "id": "c4baaf40",
   "metadata": {},
   "outputs": [
    {
     "name": "stdout",
     "output_type": "stream",
     "text": [
      "favourite_cricketer_player:\n",
      "vkohli\n",
      "siraj\n",
      "rjadega\n",
      "msdhoni\n"
     ]
    }
   ],
   "source": [
    "print(\"favourite_cricketer_player:\\nvkohli\\nsiraj\\nrjadega\\nmsdhoni\")"
   ]
  },
  {
   "cell_type": "code",
   "execution_count": 20,
   "id": "a95b19c9",
   "metadata": {},
   "outputs": [
    {
     "name": "stdout",
     "output_type": "stream",
     "text": [
      "favourite_cricketer_player:\n",
      "\tvkohli\n",
      "\tsiraj\n",
      "\trjadega\n",
      "\tmsdhoni\n"
     ]
    }
   ],
   "source": [
    "print(\"favourite_cricketer_player:\\n\\tvkohli\\n\\tsiraj\\n\\trjadega\\n\\tmsdhoni\")"
   ]
  },
  {
   "cell_type": "code",
   "execution_count": 21,
   "id": "ee41f776",
   "metadata": {},
   "outputs": [],
   "source": [
    "name1 ='   syed'"
   ]
  },
  {
   "cell_type": "code",
   "execution_count": 22,
   "id": "8a088209",
   "metadata": {},
   "outputs": [
    {
     "name": "stdout",
     "output_type": "stream",
     "text": [
      "   syed\n"
     ]
    }
   ],
   "source": [
    "print(name1)"
   ]
  },
  {
   "cell_type": "code",
   "execution_count": 23,
   "id": "6770d69e",
   "metadata": {},
   "outputs": [],
   "source": [
    "name2 = 'sultan  '"
   ]
  },
  {
   "cell_type": "code",
   "execution_count": 24,
   "id": "746a2851",
   "metadata": {},
   "outputs": [
    {
     "name": "stdout",
     "output_type": "stream",
     "text": [
      "sultan  \n"
     ]
    }
   ],
   "source": [
    "print(name2)"
   ]
  },
  {
   "cell_type": "code",
   "execution_count": 25,
   "id": "072270ce",
   "metadata": {},
   "outputs": [],
   "source": [
    "name3 ='  sd  '"
   ]
  },
  {
   "cell_type": "code",
   "execution_count": 26,
   "id": "28ac9909",
   "metadata": {},
   "outputs": [
    {
     "name": "stdout",
     "output_type": "stream",
     "text": [
      "  sd  \n"
     ]
    }
   ],
   "source": [
    "print(name3)"
   ]
  },
  {
   "cell_type": "code",
   "execution_count": 28,
   "id": "8d7aaa21",
   "metadata": {},
   "outputs": [
    {
     "data": {
      "text/plain": [
       "'syed'"
      ]
     },
     "execution_count": 28,
     "metadata": {},
     "output_type": "execute_result"
    }
   ],
   "source": [
    "name1.lstrip()"
   ]
  },
  {
   "cell_type": "code",
   "execution_count": 29,
   "id": "99c63115",
   "metadata": {},
   "outputs": [
    {
     "data": {
      "text/plain": [
       "'sultan'"
      ]
     },
     "execution_count": 29,
     "metadata": {},
     "output_type": "execute_result"
    }
   ],
   "source": [
    "name2.rstrip()"
   ]
  },
  {
   "cell_type": "code",
   "execution_count": 30,
   "id": "222424b2",
   "metadata": {},
   "outputs": [
    {
     "data": {
      "text/plain": [
       "'sd'"
      ]
     },
     "execution_count": 30,
     "metadata": {},
     "output_type": "execute_result"
    }
   ],
   "source": [
    "name3.strip()"
   ]
  },
  {
   "cell_type": "code",
   "execution_count": null,
   "id": "9c268fbe",
   "metadata": {},
   "outputs": [],
   "source": []
  }
 ],
 "metadata": {
  "kernelspec": {
   "display_name": "Python 3 (ipykernel)",
   "language": "python",
   "name": "python3"
  },
  "language_info": {
   "codemirror_mode": {
    "name": "ipython",
    "version": 3
   },
   "file_extension": ".py",
   "mimetype": "text/x-python",
   "name": "python",
   "nbconvert_exporter": "python",
   "pygments_lexer": "ipython3",
   "version": "3.9.13"
  }
 },
 "nbformat": 4,
 "nbformat_minor": 5
}
