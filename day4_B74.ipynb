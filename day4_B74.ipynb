{
 "cells": [
  {
   "cell_type": "code",
   "execution_count": 1,
   "id": "dcc59fb9",
   "metadata": {},
   "outputs": [],
   "source": [
    "students = ['ravi','syed','farooq','shoaib','azeem','pooja','arman','ameen']"
   ]
  },
  {
   "cell_type": "code",
   "execution_count": 2,
   "id": "ccc244a8",
   "metadata": {},
   "outputs": [
    {
     "name": "stdout",
     "output_type": "stream",
     "text": [
      "['ravi', 'syed', 'farooq', 'shoaib', 'azeem', 'pooja', 'arman', 'ameen']\n"
     ]
    }
   ],
   "source": [
    "print(students)"
   ]
  },
  {
   "cell_type": "code",
   "execution_count": 3,
   "id": "122ab3d8",
   "metadata": {},
   "outputs": [
    {
     "name": "stdout",
     "output_type": "stream",
     "text": [
      "syed\n"
     ]
    }
   ],
   "source": [
    "print(students[1])"
   ]
  },
  {
   "cell_type": "code",
   "execution_count": 4,
   "id": "15215c7a",
   "metadata": {},
   "outputs": [
    {
     "name": "stdout",
     "output_type": "stream",
     "text": [
      "arman\n"
     ]
    }
   ],
   "source": [
    "print(students[6])"
   ]
  },
  {
   "cell_type": "code",
   "execution_count": 5,
   "id": "456b451c",
   "metadata": {},
   "outputs": [
    {
     "data": {
      "text/plain": [
       "list"
      ]
     },
     "execution_count": 5,
     "metadata": {},
     "output_type": "execute_result"
    }
   ],
   "source": [
    "type(students)"
   ]
  },
  {
   "cell_type": "code",
   "execution_count": 6,
   "id": "f12602f0",
   "metadata": {},
   "outputs": [
    {
     "name": "stdout",
     "output_type": "stream",
     "text": [
      "Shoaib\n"
     ]
    }
   ],
   "source": [
    "print(students[3].title())"
   ]
  },
  {
   "cell_type": "code",
   "execution_count": 7,
   "id": "8b1fece3",
   "metadata": {},
   "outputs": [
    {
     "name": "stdout",
     "output_type": "stream",
     "text": [
      "SHOAIB\n"
     ]
    }
   ],
   "source": [
    "print(students[3].upper())"
   ]
  },
  {
   "cell_type": "code",
   "execution_count": 8,
   "id": "4a95787c",
   "metadata": {},
   "outputs": [
    {
     "name": "stdout",
     "output_type": "stream",
     "text": [
      "Syed\n"
     ]
    }
   ],
   "source": [
    "print(students[1].title())"
   ]
  },
  {
   "cell_type": "code",
   "execution_count": 9,
   "id": "d7f661a9",
   "metadata": {},
   "outputs": [
    {
     "name": "stdout",
     "output_type": "stream",
     "text": [
      "syed\n"
     ]
    }
   ],
   "source": [
    "print(students[1].lower())"
   ]
  },
  {
   "cell_type": "code",
   "execution_count": 10,
   "id": "3dc75206",
   "metadata": {},
   "outputs": [
    {
     "name": "stdout",
     "output_type": "stream",
     "text": [
      "Farooq\n"
     ]
    }
   ],
   "source": [
    "print(students[2].title())"
   ]
  },
  {
   "cell_type": "code",
   "execution_count": 11,
   "id": "4682c74a",
   "metadata": {},
   "outputs": [
    {
     "name": "stdout",
     "output_type": "stream",
     "text": [
      "FAROOQ\n"
     ]
    }
   ],
   "source": [
    "print(students[2].upper())"
   ]
  },
  {
   "cell_type": "code",
   "execution_count": 12,
   "id": "c07c58b0",
   "metadata": {},
   "outputs": [
    {
     "name": "stdout",
     "output_type": "stream",
     "text": [
      "['ravi', 'syed', 'farooq', 'shoaib', 'azeem', 'pooja', 'arman', 'ameen']\n"
     ]
    }
   ],
   "source": [
    "print(students)"
   ]
  },
  {
   "cell_type": "code",
   "execution_count": 14,
   "id": "f3acf14d",
   "metadata": {},
   "outputs": [],
   "source": [
    "students.append('Abdulla')"
   ]
  },
  {
   "cell_type": "code",
   "execution_count": 15,
   "id": "12494e62",
   "metadata": {},
   "outputs": [
    {
     "name": "stdout",
     "output_type": "stream",
     "text": [
      "['ravi', 'syed', 'farooq', 'shoaib', 'azeem', 'pooja', 'arman', 'ameen', 'Abdulla']\n"
     ]
    }
   ],
   "source": [
    "print(students)"
   ]
  },
  {
   "cell_type": "code",
   "execution_count": 17,
   "id": "35d4d180",
   "metadata": {},
   "outputs": [
    {
     "name": "stdout",
     "output_type": "stream",
     "text": [
      "Abdulla\n"
     ]
    }
   ],
   "source": [
    "print(students[8])"
   ]
  },
  {
   "cell_type": "code",
   "execution_count": 18,
   "id": "888471ff",
   "metadata": {},
   "outputs": [
    {
     "name": "stdout",
     "output_type": "stream",
     "text": [
      "ABDULLA\n"
     ]
    }
   ],
   "source": [
    "print(students[8].upper())"
   ]
  },
  {
   "cell_type": "code",
   "execution_count": 19,
   "id": "e4ac451b",
   "metadata": {},
   "outputs": [],
   "source": [
    "students[0] = 'raju'"
   ]
  },
  {
   "cell_type": "code",
   "execution_count": 20,
   "id": "53d7c695",
   "metadata": {},
   "outputs": [
    {
     "name": "stdout",
     "output_type": "stream",
     "text": [
      "['raju', 'syed', 'farooq', 'shoaib', 'azeem', 'pooja', 'arman', 'ameen', 'Abdulla']\n"
     ]
    }
   ],
   "source": [
    "print(students)"
   ]
  },
  {
   "cell_type": "code",
   "execution_count": 25,
   "id": "1ad6f4ba",
   "metadata": {},
   "outputs": [],
   "source": [
    "students[3] = 'arti'"
   ]
  },
  {
   "cell_type": "code",
   "execution_count": 26,
   "id": "b44eccf7",
   "metadata": {},
   "outputs": [
    {
     "name": "stdout",
     "output_type": "stream",
     "text": [
      "['raju', 'syed', 'farooq', 'arti', 'azeem', 'pooja', 'arman', 'ameen', 'Abdulla']\n"
     ]
    }
   ],
   "source": [
    "print(students)"
   ]
  },
  {
   "cell_type": "code",
   "execution_count": 27,
   "id": "828815f5",
   "metadata": {},
   "outputs": [],
   "source": [
    "del students[2]"
   ]
  },
  {
   "cell_type": "code",
   "execution_count": 28,
   "id": "da5d518b",
   "metadata": {},
   "outputs": [
    {
     "name": "stdout",
     "output_type": "stream",
     "text": [
      "['raju', 'syed', 'arti', 'azeem', 'pooja', 'arman', 'ameen', 'Abdulla']\n"
     ]
    }
   ],
   "source": [
    "print(students)"
   ]
  },
  {
   "cell_type": "code",
   "execution_count": 29,
   "id": "40aba48e",
   "metadata": {},
   "outputs": [],
   "source": [
    "del students[6]"
   ]
  },
  {
   "cell_type": "code",
   "execution_count": 30,
   "id": "15d996a4",
   "metadata": {},
   "outputs": [
    {
     "name": "stdout",
     "output_type": "stream",
     "text": [
      "['raju', 'syed', 'arti', 'azeem', 'pooja', 'arman', 'Abdulla']\n"
     ]
    }
   ],
   "source": [
    "print(students)"
   ]
  },
  {
   "cell_type": "code",
   "execution_count": 31,
   "id": "6b192ef9",
   "metadata": {},
   "outputs": [],
   "source": [
    "x = students.pop()"
   ]
  },
  {
   "cell_type": "code",
   "execution_count": 32,
   "id": "2f540246",
   "metadata": {},
   "outputs": [
    {
     "name": "stdout",
     "output_type": "stream",
     "text": [
      "['raju', 'syed', 'arti', 'azeem', 'pooja', 'arman']\n"
     ]
    }
   ],
   "source": [
    "print(students)"
   ]
  },
  {
   "cell_type": "code",
   "execution_count": 33,
   "id": "e32ad4c2",
   "metadata": {},
   "outputs": [
    {
     "name": "stdout",
     "output_type": "stream",
     "text": [
      "Abdulla\n"
     ]
    }
   ],
   "source": [
    "print(x)"
   ]
  },
  {
   "cell_type": "code",
   "execution_count": 35,
   "id": "f1fd8d3f",
   "metadata": {},
   "outputs": [],
   "source": [
    "students.append('abdulla')"
   ]
  },
  {
   "cell_type": "code",
   "execution_count": 36,
   "id": "0768e2c0",
   "metadata": {},
   "outputs": [
    {
     "name": "stdout",
     "output_type": "stream",
     "text": [
      "['raju', 'syed', 'arti', 'azeem', 'pooja', 'arman', 'abdulla']\n"
     ]
    }
   ],
   "source": [
    "print(students)"
   ]
  },
  {
   "cell_type": "code",
   "execution_count": 37,
   "id": "b160260a",
   "metadata": {},
   "outputs": [
    {
     "name": "stdout",
     "output_type": "stream",
     "text": [
      "abdulla\n"
     ]
    }
   ],
   "source": [
    "print(students[-1])"
   ]
  },
  {
   "cell_type": "code",
   "execution_count": null,
   "id": "f6230f68",
   "metadata": {},
   "outputs": [],
   "source": []
  }
 ],
 "metadata": {
  "kernelspec": {
   "display_name": "Python 3 (ipykernel)",
   "language": "python",
   "name": "python3"
  },
  "language_info": {
   "codemirror_mode": {
    "name": "ipython",
    "version": 3
   },
   "file_extension": ".py",
   "mimetype": "text/x-python",
   "name": "python",
   "nbconvert_exporter": "python",
   "pygments_lexer": "ipython3",
   "version": "3.9.13"
  }
 },
 "nbformat": 4,
 "nbformat_minor": 5
}
